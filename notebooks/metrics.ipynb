{
 "cells": [
  {
   "cell_type": "code",
   "execution_count": null,
   "metadata": {
    "collapsed": true
   },
   "outputs": [],
   "source": [
    "# Imports\n",
    "import pandas as pd\n",
    "from wer import wer # TODO Does this work outside pycharm?\n",
    "import numpy as np\n",
    "import matplotlib.pyplot as plt"
   ]
  },
  {
   "cell_type": "code",
   "execution_count": null,
   "outputs": [],
   "source": [
    "\n",
    "\n",
    "# Read the ctms to a dataframe\n",
    "column_names=[\"Filename\", \"segment\", \"start\", \"duration\", \"token\"]\n",
    "gold_ctms_file = \"../data/test-61-70970-clean_hires-ctm_no_frame_def_par-ctm\"\n",
    "gold_ctms_df = pd.read_csv(gold_ctms_file, sep=' ', names=column_names, index_col=False, engine='python')\n",
    "\n",
    "created_ctms_file = \"../data/2020_12_14_06_55_PM_ctm\"\n",
    "created_ctms_df = pd.read_csv(created_ctms_file, sep=' ', names=column_names, index_col=False, engine='python')\n"
   ],
   "metadata": {
    "pycharm": {
     "metadata": false,
     "name": "#%%\n"
    }
   }
  },
  {
   "cell_type": "code",
   "execution_count": null,
   "outputs": [],
   "source": [
    "# Create end-time column\n",
    "'''df['c'] = df.apply(lambda row: row.a + row.b, axis=1)\n",
    "If you get the SettingWithCopyWarning you can do it this way also:\n",
    "\n",
    "fn = lambda row: row.a + row.b # define a function for the new column\n",
    "col = df.apply(fn, axis=1) # get column data with an index\n",
    "df = df.assign(c=col.values) # assign values to column 'c'\n",
    "'''\n",
    "gold_ctms_df[\"end\"] = gold_ctms_df.apply(lambda row: row.start + row.duration, axis=1)\n",
    "created_ctms_df[\"end\"] = created_ctms_df.apply(lambda row: row.start + row.duration, axis=1)"
   ],
   "metadata": {
    "pycharm": {
     "metadata": false,
     "name": "#%%\n"
    }
   }
  },
  {
   "cell_type": "code",
   "execution_count": null,
   "outputs": [],
   "source": [
    "# examine data\n",
    "gold_ctms_df.head()\n"
   ],
   "metadata": {
    "pycharm": {
     "metadata": false,
     "name": "#%%\n"
    }
   }
  },
  {
   "cell_type": "code",
   "execution_count": null,
   "outputs": [],
   "source": [
    "created_ctms_df.head()\n"
   ],
   "metadata": {
    "pycharm": {
     "metadata": false,
     "name": "#%%\n"
    }
   }
  },
  {
   "cell_type": "code",
   "execution_count": null,
   "outputs": [],
   "source": [
    "# Initialize frame counts and get list of files.\n",
    "\n",
    "# Iterate file by file\n",
    "list_of_filenames = gold_ctms_df[\"Filename\"].unique().tolist()\n",
    "number_of_files = len(list_of_filenames)\n",
    "\n",
    "slow_total_correct_empty_frames = []\n",
    "slow_total_correct_token_frames = []\n",
    "slow_total_incorrect_token_frames = []\n",
    "slow_total_number_of_frames = []"
   ],
   "metadata": {
    "pycharm": {
     "metadata": false,
     "name": "#%%\n"
    }
   }
  },
  {
   "cell_type": "code",
   "execution_count": null,
   "outputs": [],
   "source": [
    "# Simple but very slow method of comparing files. Time takes about 10% of file length\n",
    "# Assumes one frame might have multiple tokens.\n",
    "# If one of those is correct gets a point.\n",
    "\n",
    "for filename in list_of_filenames:\n",
    "    correct_empty_frames = 0\n",
    "    correct_token_frames = 0\n",
    "    incorrect_token_frames = 0\n",
    "    number_of_frames = 0\n",
    "    \n",
    "    df_current_gold_ctm = gold_ctms_df.loc[gold_ctms_df['Filename'] == filename][[\"start\", \"end\", \"token\"]]\n",
    "    df_current_created_ctm = created_ctms_df.loc[created_ctms_df['Filename'] == filename][[\"start\", \"end\", \"token\"]]\n",
    "    \n",
    "    # Iterate by frame (this could be much faster, but this is lot more simpler)\n",
    "    endtime = int(df_current_gold_ctm[\"end\"].max() * 1000) # in ms\n",
    "    framerate = 10 # in ms\n",
    "    for i in range(0, endtime, framerate):\n",
    "        current_time = i / 1000\n",
    "        gold_tokens_set = set(df_current_gold_ctm.loc[(df_current_gold_ctm[\"start\"] <= current_time) & (df_current_gold_ctm[\"end\"] >= current_time)][\"token\"].unique())\n",
    "        created_tokens_set = set(df_current_created_ctm.loc[(df_current_created_ctm[\"start\"] <= current_time) & (df_current_created_ctm[\"end\"] >= current_time)][\"token\"].unique())\n",
    "       #%% \n",
    "        if (0 == len(gold_tokens_set)) and (0 == len(created_tokens_set)):\n",
    "            correct_empty_frames += 1\n",
    "        \n",
    "        elif not gold_tokens_set.isdisjoint(created_tokens_set):\n",
    "            correct_token_frames += 1\n",
    "        else:\n",
    "            incorrect_token_frames += 1\n",
    "        \n",
    "        number_of_frames += 1\n",
    "            \n",
    "    slow_total_correct_token_frames.append(correct_token_frames)\n",
    "    slow_total_correct_empty_frames.append(correct_empty_frames)\n",
    "    slow_total_incorrect_token_frames.append(incorrect_token_frames)\n",
    "    slow_total_number_of_frames.append(number_of_frames)\n",
    "    #%%"
   ],
   "metadata": {
    "collapsed": false,
    "pycharm": {
     "name": "#%%\n"
    }
   }
  },
  {
   "cell_type": "code",
   "execution_count": null,
   "outputs": [],
   "source": [
    "# Faster method of doing frame-by-frame comparison\n",
    "\n",
    "fast_total_correct_empty_frames = []\n",
    "fast_total_correct_token_frames = []\n",
    "fast_total_incorrect_token_frames = []\n",
    "\n",
    "# Create dataframe with index every framerate (10ms) and initialize with silence\n",
    "for filename in list_of_filenames:\n",
    "    correct_empty_frames = 0\n",
    "    correct_token_frames = 0\n",
    "    incorrect_token_frames = 0\n",
    "    number_of_frames = 0\n",
    "\n",
    "    df_current_gold_ctm = gold_ctms_df.loc[gold_ctms_df['Filename'] == filename][[\"start\", \"end\", \"token\"]]\n",
    "    df_current_created_ctm = created_ctms_df.loc[created_ctms_df['Filename'] == filename][[\"start\", \"end\", \"token\"]]\n",
    "\n",
    "    endtime = int(max(df_current_gold_ctm[\"end\"].max(), df_current_created_ctm[\"end\"].max()) * 1000) # in ms\n",
    "    framerate = 10 # in ms\n",
    "    frames_current_gold_ctm = [\"!SIL\" for x in range(0, endtime + framerate, framerate)]\n",
    "    frames_current_created_ctm = [\"!SIL\" for x in range(0, endtime + framerate, framerate)]\n",
    "\n",
    "    # Go over the ctm token by token and use times to put that token into those indexes\n",
    "    for frames_and_ctm in [[df_current_gold_ctm, frames_current_gold_ctm], [df_current_created_ctm, frames_current_created_ctm]]:\n",
    "        for ctm_row in frames_and_ctm[0].itertuples():\n",
    "\n",
    "            # Calculate the indexes with framerate\n",
    "            tokens_start_index = int(ctm_row.start * 1000 / framerate)\n",
    "            tokens_end_index = int(ctm_row.end * 1000 / framerate)\n",
    "            for index in range(tokens_start_index, tokens_end_index + 1):\n",
    "                frames_and_ctm[1][index] = ctm_row.token\n",
    "\n",
    "    for gold_frame, created_frame in zip(frames_current_gold_ctm, frames_current_created_ctm):\n",
    "        if gold_frame == \"!SIL\" and created_frame == \"!SIL\":\n",
    "            correct_empty_frames += 1\n",
    "        elif gold_frame == created_frame:\n",
    "            correct_token_frames += 1\n",
    "        else:\n",
    "            incorrect_token_frames += 1\n",
    "\n",
    "    fast_total_correct_token_frames.append(correct_token_frames)\n",
    "    fast_total_correct_empty_frames.append(correct_empty_frames)\n",
    "    fast_total_incorrect_token_frames.append(incorrect_token_frames)\n",
    "\n",
    "# Do zip comparison.\n"
   ],
   "metadata": {
    "collapsed": false,
    "pycharm": {
     "name": "#%%\n"
    }
   }
  },
  {
   "cell_type": "code",
   "execution_count": null,
   "outputs": [],
   "source": [
    "for filename in list_of_filenames:\n",
    "\n",
    "    df_current_gold_ctm = gold_ctms_df.loc[gold_ctms_df['Filename'] == filename][[\"start\", \"end\", \"token\"]]\n",
    "    df_current_created_ctm = created_ctms_df.loc[created_ctms_df['Filename'] == filename][[\"start\", \"end\", \"token\"]]\n",
    "\n",
    "    # [\"OP\", \"REF\", \"HYP\"]\n",
    "    # \"OK\",\"SUB\",\"INS\", \"***\", \"DEL\", \"***\"\n",
    "    wer_results, token_comparisons = wer(df_current_gold_ctm[\"token\"].tolist(), df_current_created_ctm[\"token\"].tolist(), True)\n",
    "\n",
    "    # Iterate three things\n",
    "    gold_iterator = df_current_gold_ctm.itertuples()\n",
    "    created_iterator = df_current_created_ctm.itertuples()\n",
    "    ctm_mistakes_seconds = []\n",
    "    for comparison_row in token_comparisons[1:]:\n",
    "        if comparison_row[0] == \"OK\" or comparison_row[0] == \"SUB\":\n",
    "\n",
    "            gold_ctm_row = next(gold_iterator)\n",
    "            created_ctm_row = next(created_iterator)\n",
    "\n",
    "            start_difference = created_ctm_row.start - gold_ctm_row.start\n",
    "            end_difference = created_ctm_row.end - gold_ctm_row.end\n",
    "            ctm_mistakes_seconds.append([start_difference, end_difference])\n",
    "\n",
    "        elif comparison_row[0] == \"INS\":\n",
    "            created_ctm_row = next(created_iterator)\n",
    "        elif comparison_row[0] == \"DEL\":\n",
    "            gold_ctm_row = next(gold_iterator)\n",
    "        else:\n",
    "            print(\"Something went terribly wrong\")\n",
    "            break"
   ],
   "metadata": {
    "pycharm": {
     "metadata": false,
     "name": "#%%\n"
    }
   }
  },
  {
   "cell_type": "code",
   "execution_count": null,
   "outputs": [],
   "source": [
    "# STATISTICS\n",
    "slow_correct_empty_np_arr = np.asarray(slow_total_correct_empty_frames)\n",
    "slow_correct_token_np_arr = np.asarray(slow_total_correct_token_frames)\n",
    "slow_incorrect_np_arr = np.asarray(slow_total_incorrect_token_frames)\n",
    "\n",
    "difference_np_arr = np.asarray(ctm_mistakes_seconds)\n",
    "\n",
    "slow_correct_mean = np.mean(slow_correct_token_np_arr)\n",
    "slow_correct_median = np.median(slow_correct_token_np_arr)\n",
    "slow_correct_max = np.max(slow_correct_token_np_arr)\n",
    "slow_correct_min = np.min(slow_correct_token_np_arr)\n",
    "\n",
    "fig1, (ax1, ax2, ax3) = plt.subplots(1, 3, sharey=True)\n",
    "ax1.set_title('Token')\n",
    "ax2.set_title('Empty')\n",
    "ax3.set_title('Wrong')\n",
    "ax1.boxplot(slow_correct_token_np_arr)\n",
    "ax2.boxplot(slow_correct_empty_np_arr)\n",
    "ax3.boxplot(slow_incorrect_np_arr)"
   ],
   "metadata": {
    "collapsed": false,
    "pycharm": {
     "name": "#%%\n"
    }
   }
  },
  {
   "cell_type": "code",
   "execution_count": null,
   "outputs": [],
   "source": [
    "n, bins, patches = plt.hist(difference_np_arr[:,0], 10, facecolor='g', alpha=0.75)\n",
    "\n",
    "plt.xlabel('Start difference')\n",
    "plt.ylabel('#Tokens')\n",
    "plt.title('Histogram of start differences')\n",
    "#plt.xlim(, 160)\n",
    "#plt.ylim(0, 0.03)\n",
    "plt.grid(True)\n",
    "plt.show()"
   ],
   "metadata": {
    "collapsed": false,
    "pycharm": {
     "name": "#%%\n"
    }
   }
  },
  {
   "cell_type": "code",
   "execution_count": null,
   "outputs": [],
   "source": [
    "n, bins, patches = plt.hist(difference_np_arr[:,1], 10, facecolor='g', alpha=0.75)\n",
    "\n",
    "plt.xlabel('End difference')\n",
    "plt.ylabel('#Tokens')\n",
    "plt.title('Histogram of end differences')\n",
    "#plt.xlim(, 160)\n",
    "#plt.ylim(0, 0.03)\n",
    "plt.grid(True)\n",
    "plt.show()"
   ],
   "metadata": {
    "collapsed": false,
    "pycharm": {
     "name": "#%%\n"
    }
   }
  }
 ],
 "metadata": {
  "language_info": {
   "codemirror_mode": {
    "name": "ipython",
    "version": 2
   },
   "file_extension": ".py",
   "mimetype": "text/x-python",
   "name": "python",
   "nbconvert_exporter": "python",
   "pygments_lexer": "ipython2",
   "version": "2.7.6"
  },
  "kernelspec": {
   "name": "python3",
   "language": "python",
   "display_name": "Python 3"
  }
 },
 "nbformat": 4,
 "nbformat_minor": 0
}