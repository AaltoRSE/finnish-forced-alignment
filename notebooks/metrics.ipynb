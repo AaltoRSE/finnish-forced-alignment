{
 "cells": [
  {
   "cell_type": "code",
   "execution_count": null,
   "metadata": {
    "collapsed": true,
    "pycharm": {
     "is_executing": false
    }
   },
   "outputs": [],
   "source": "# Imports\nimport pandas as pd"
  },
  {
   "cell_type": "code",
   "execution_count": null,
   "outputs": [],
   "source": "\n\n# Read the ctms to a dataframe\ncolumn_names=[\"Filename\", \"segment\", \"start\", \"duration\", \"token\"]\ngold_ctms_file = \"../data/ctm_from_docker_wholesale\"\ngold_ctms_df = pd.read_csv(gold_ctms_file, sep=' ', names=column_names, index_col=False, engine='python')\n\ncreated_ctms_file = \"../data/ctm_to_Marko_Jouste\"\ncreated_ctms_df = pd.read_csv(created_ctms_file, sep=' ', names=column_names, index_col=False, engine='python')\n",
   "metadata": {
    "pycharm": {
     "metadata": false,
     "name": "#%%\n",
     "is_executing": false
    }
   }
  },
  {
   "cell_type": "code",
   "execution_count": null,
   "outputs": [],
   "source": "# Create end-time column\n'''df['c'] = df.apply(lambda row: row.a + row.b, axis=1)\nIf you get the SettingWithCopyWarning you can do it this way also:\n\nfn = lambda row: row.a + row.b # define a function for the new column\ncol = df.apply(fn, axis=1) # get column data with an index\ndf = df.assign(c=col.values) # assign values to column 'c'\n'''\ngold_ctms_df[\"end\"] = gold_ctms_df.apply(lambda row: row.start + row.duration, axis=1)\ncreated_ctms_df[\"end\"] = created_ctms_df.apply(lambda row: row.start + row.duration, axis=1)",
   "metadata": {
    "pycharm": {
     "metadata": false,
     "name": "#%%\n",
     "is_executing": false
    }
   }
  },
  {
   "cell_type": "code",
   "execution_count": null,
   "outputs": [],
   "source": "# examine data\ngold_ctms_df.head()\n",
   "metadata": {
    "pycharm": {
     "metadata": false,
     "name": "#%%\n",
     "is_executing": false
    }
   }
  },
  {
   "cell_type": "code",
   "execution_count": null,
   "outputs": [],
   "source": "created_ctms_df.head()\n",
   "metadata": {
    "pycharm": {
     "metadata": false,
     "name": "#%%\n",
     "is_executing": false
    }
   }
  },
  {
   "cell_type": "code",
   "execution_count": null,
   "outputs": [],
   "source": "\n# Iterate file by file\nlist_of_filenames = gold_ctms_df[\"Filename\"].unique().tolist()\nnumber_of_files = len(list_of_filenames)\n\ntotal_correct_empty_frames = []\ntotal_correct_token_frames = []\ntotal_incorrect_token_frames = []\ntotal_number_of_frames = []\n\nfor filename in list_of_filenames:\n    correct_empty_frames = 0\n    correct_token_frames = 0\n    incorrect_token_frames = 0\n    number_of_frames = 0\n    \n    df_current_gold_ctm = gold_ctms_df.loc[gold_ctms_df['Filename'] == filename][[\"start\", \"end\", \"token\"]]\n    df_current_created_ctm = created_ctms_df.loc[created_ctms_df['Filename'] == filename][[\"start\", \"end\", \"token\"]]\n    \n    # Iterate by frame (this could be much faster, but this is lot more simpler)\n    endtime = int(df_current_gold_ctm[\"end\"].max() * 1000) # in ms\n    framerate = 10 # in ms\n    for i in range(0, endtime, framerate):\n        current_time = i / 1000\n        gold_tokens_set = set(df_current_gold_ctm.loc[(df_current_gold_ctm[\"start\"] <= current_time) & (df_current_gold_ctm[\"end\"] >= current_time)][\"token\"].unique())\n        created_tokens_set = set(df_current_created_ctm.loc[(df_current_created_ctm[\"start\"] <= current_time) & (df_current_created_ctm[\"end\"] >= current_time)][\"token\"].unique())\n       #%% \n        if (0 == len(gold_tokens_set)) and (0 == len(created_tokens_set)):\n            correct_empty_frames += 1\n        \n        elif not gold_tokens_set.isdisjoint(created_tokens_set):\n            correct_token_frames += 1\n        else:\n            incorrect_token_frames += 1\n        \n        number_of_frames += 1\n            \n    total_correct_token_frames.append(correct_token_frames)\n    total_correct_empty_frames.append(correct_empty_frames)\n    total_incorrect_token_frames.append(incorrect_token_frames)\n    total_number_of_frames.append(number_of_frames)\n    #%%\n",
   "metadata": {
    "pycharm": {
     "metadata": false,
     "name": "#%%time\n",
     "is_executing": false
    }
   }
  },
  {
   "cell_type": "code",
   "execution_count": null,
   "outputs": [],
   "source": "current_time = 1.5 \nfilename = \"N_Tsd_Cd_m1\"\ndf_current_gold_ctm = gold_ctms_df.loc[gold_ctms_df['Filename'] == filename][[\"start\", \"end\", \"token\"]]\ngold_tokens_set = set(df_current_gold_ctm.loc[(df_current_gold_ctm[\"start\"] <= current_time) & (df_current_gold_ctm[\"end\"] >= current_time)][\"token\"].unique())\n",
   "metadata": {
    "pycharm": {
     "metadata": false,
     "name": "#%%\n",
     "is_executing": false
    }
   }
  }
 ],
 "metadata": {
  "language_info": {
   "codemirror_mode": {
    "name": "ipython",
    "version": 2
   },
   "file_extension": ".py",
   "mimetype": "text/x-python",
   "name": "python",
   "nbconvert_exporter": "python",
   "pygments_lexer": "ipython2",
   "version": "2.7.6"
  },
  "kernelspec": {
   "name": "python3",
   "language": "python",
   "display_name": "Python 3"
  }
 },
 "nbformat": 4,
 "nbformat_minor": 0
}